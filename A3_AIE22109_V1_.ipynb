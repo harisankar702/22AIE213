{
 "cells": [
  {
   "cell_type": "markdown",
   "id": "7d72cd75-a731-41e9-b500-95cf464a8b51",
   "metadata": {},
   "source": [
    "**A1**"
   ]
  },
  {
   "cell_type": "code",
   "execution_count": 1,
   "id": "12b1a605-3611-4e19-815a-4e97cb81ea2b",
   "metadata": {},
   "outputs": [
    {
     "name": "stdout",
     "output_type": "stream",
     "text": [
      "The features matrix (X) contains:\n",
      " [[20  6  2]\n",
      " [16  3  6]\n",
      " [27  6  2]\n",
      " [19  1  2]\n",
      " [24  4  2]\n",
      " [22  1  5]\n",
      " [15  4  2]\n",
      " [18  4  2]\n",
      " [21  1  4]\n",
      " [16  2  4]]\n",
      "The payment vector (Y) contains:\n",
      " [386 289 393 110 280 167 271 274 148 198]\n",
      "\n",
      "The dimensionality of the vector space is: 3\n",
      "The number of vectors in the vector space is: 10\n",
      "\n",
      "The rank of the features matrix is: 3\n",
      "\n",
      "The pseudo-inverse of the features matrix is:\n",
      " [[-0.01008596 -0.03124505  0.01013951  0.0290728   0.0182907   0.01161794\n",
      "  -0.00771348  0.00095458  0.01743623 -0.00542016]\n",
      " [ 0.09059668  0.07263726  0.03172933 -0.09071908 -0.01893196 -0.06926996\n",
      "   0.05675464  0.03152577 -0.07641966  0.00357352]\n",
      " [ 0.00299878  0.15874243 -0.05795468 -0.06609024 -0.06295043  0.03348017\n",
      "   0.01541831 -0.01070461  0.00029003  0.05938755]]\n"
     ]
    }
   ],
   "source": [
    "import numpy as np\n",
    "\n",
    "# Define the dataset\n",
    "dataset = np.array([\n",
    "    [20, 6, 2, 386],\n",
    "    [16, 3, 6, 289],\n",
    "    [27, 6, 2, 393],\n",
    "    [19, 1, 2, 110],\n",
    "    [24, 4, 2, 280],\n",
    "    [22, 1, 5, 167],\n",
    "    [15, 4, 2, 271],\n",
    "    [18, 4, 2, 274],\n",
    "    [21, 1, 4, 148],\n",
    "    [16, 2, 4, 198]\n",
    "])\n",
    "\n",
    "# Separate the data into two matrices using different nomenclature\n",
    "features_matrix = dataset[:, :-1] \n",
    "payment_vector = dataset[:, -1] \n",
    "\n",
    "# Display the matrices\n",
    "print(\"The features matrix (X) contains:\\n\", features_matrix)\n",
    "print(\"The payment vector (Y) contains:\\n\", payment_vector)\n",
    "\n",
    "# Determine the dimensionality of the vector space\n",
    "dimensionality = features_matrix.shape[1]  # Number of columns in the features matrix\n",
    "print(\"\\nThe dimensionality of the vector space is:\", dimensionality)\n",
    "\n",
    "# Calculate the number of vectors in the vector space\n",
    "num_vectors = features_matrix.shape[0]  # Number of rows in the features matrix\n",
    "print(\"The number of vectors in the vector space is:\", num_vectors)\n",
    "\n",
    "# Calculate the rank of the features matrix\n",
    "matrix_rank = np.linalg.matrix_rank(features_matrix)\n",
    "print(\"\\nThe rank of the features matrix is:\", matrix_rank)\n",
    "\n",
    "# Calculate the pseudo-inverse of the features matrix\n",
    "pseudo_inverse = np.linalg.pinv(features_matrix)\n",
    "print(\"\\nThe pseudo-inverse of the features matrix is:\\n\", pseudo_inverse)\n"
   ]
  },
  {
   "cell_type": "markdown",
   "id": "ea8ed741-f429-464f-a10d-037f415b4ec0",
   "metadata": {},
   "source": [
    "**A2**"
   ]
  },
  {
   "cell_type": "code",
   "execution_count": null,
   "id": "f708a99f-ed73-42e1-85b6-6d5e0de5b17e",
   "metadata": {},
   "outputs": [
    {
     "name": "stdout",
     "output_type": "stream",
     "text": [
      "\n",
      "The model vector X for predicting the cost of the products: [ 1. 55. 18.]\n",
      "\n",
      "The cost of each product is as follows:\n",
      "The cost of Product 1 is: Rs.386.00\n",
      "The cost of Product 2 is: Rs.289.00\n",
      "The cost of Product 3 is: Rs.393.00\n",
      "The cost of Product 4 is: Rs.110.00\n",
      "The cost of Product 5 is: Rs.280.00\n",
      "The cost of Product 6 is: Rs.167.00\n",
      "The cost of Product 7 is: Rs.271.00\n",
      "The cost of Product 8 is: Rs.274.00\n",
      "The cost of Product 9 is: Rs.148.00\n",
      "The cost of Product 10 is: Rs.198.00\n"
     ]
    }
   ],
   "source": [
    "import numpy as np\n",
    "\n",
    "X = np.dot(pseudo_inverse,payment_vector )\n",
    "print(\"\\nThe model vector X for predicting the cost of the products:\", X)\n",
    "productcosts = np.dot(features_matrix, X)\n",
    "print(\"\\nThe cost of each product is as follows:\")\n",
    "for i, cost in enumerate(productcosts):\n",
    "    print(f\"The cost of Product {i+1} is: Rs.{cost:.2f}\")"
   ]
  },
  {
   "cell_type": "markdown",
   "id": "18d34993-aef4-40d4-9c6e-4e23a3e4761f",
   "metadata": {},
   "source": [
    "**A3**"
   ]
  },
  {
   "cell_type": "code",
   "execution_count": null,
   "id": "eb83481f-013c-4f1b-9aae-ba52b31ef6d6",
   "metadata": {},
   "outputs": [
    {
     "name": "stdout",
     "output_type": "stream",
     "text": [
      "Predicted Classes:\n",
      "Customer 1: RICH\n",
      "Customer 2: RICH\n",
      "Customer 3: RICH\n",
      "Customer 4: POOR\n",
      "Customer 5: RICH\n",
      "Customer 6: POOR\n",
      "Customer 7: RICH\n",
      "Customer 8: RICH\n",
      "Customer 9: POOR\n",
      "Customer 10: RICH\n"
     ]
    }
   ],
   "source": [
    "import numpy as np\n",
    "\n",
    "# Input data: Payment amount and items purchased by 10 customers\n",
    "customer_data = np.array([\n",
    "    [20, 6, 2, 386],\n",
    "    [16, 3, 6, 289],\n",
    "    [27, 6, 2, 393],\n",
    "    [19, 1, 2, 110],\n",
    "    [24, 4, 2, 280],\n",
    "    [22, 1, 5, 167],\n",
    "    [15, 4, 2, 271],\n",
    "    [18, 4, 2, 274],\n",
    "    [21, 1, 4, 148],\n",
    "    [16, 2, 4, 198]\n",
    "])\n",
    "\n",
    "# Function to compute Euclidean distance between two points\n",
    "def calculate_distance(point1, point2):\n",
    "    return np.sqrt(np.sum((point1 - point2) ** 2))\n",
    "\n",
    "# KNN prediction function\n",
    "def knn_predict(train_data, labels, test_instance, k=3):\n",
    "    distances = []\n",
    "    for i, train_instance in enumerate(train_data):\n",
    "        distance = calculate_distance(train_instance, test_instance)\n",
    "        distances.append((distance, labels[i]))\n",
    "    distances = sorted(distances)[:k]\n",
    "    counts = np.bincount([d[1] for d in distances])\n",
    "    return np.argmax(counts)\n",
    "\n",
    "# Labels: 1 if payment > 250, else 0\n",
    "labels = np.where(customer_data[:, -1] > 200, 1, 0)\n",
    "\n",
    "# Training data: Remove the payment column\n",
    "train_data = customer_data[:, :-1]\n",
    "\n",
    "# Predict and print classes for each customer\n",
    "print(\"Predicted Classes:\")\n",
    "for i, customer_instance in enumerate(train_data):\n",
    "    predicted_class = knn_predict(train_data, labels, customer_instance)\n",
    "    if predicted_class == 1:\n",
    "        print(f\"Customer {i+1}: RICH\")\n",
    "    else:\n",
    "        print(f\"Customer {i+1}: POOR\")\n"
   ]
  },
  {
   "cell_type": "markdown",
   "id": "402ebf7e-5c45-4f7f-a7c0-1c3057ef52c2",
   "metadata": {},
   "source": [
    "**A4**"
   ]
  },
  {
   "cell_type": "code",
   "execution_count": 1,
   "id": "ee5eacb2-4a8c-4533-89fa-e78e5072ce69",
   "metadata": {},
   "outputs": [
    {
     "name": "stderr",
     "output_type": "stream",
     "text": [
      "C:\\Users\\haris\\AppData\\Local\\Temp\\ipykernel_12836\\2401438404.py:1: DeprecationWarning: \n",
      "Pyarrow will become a required dependency of pandas in the next major release of pandas (pandas 3.0),\n",
      "(to allow more performant data types, such as the Arrow string type, and better interoperability with other libraries)\n",
      "but was not found to be installed on your system.\n",
      "If this would cause problems for you,\n",
      "please provide us feedback at https://github.com/pandas-dev/pandas/issues/54466\n",
      "        \n",
      "  import pandas as pd\n"
     ]
    },
    {
     "ename": "ImportError",
     "evalue": "Missing optional dependency 'openpyxl'.  Use pip or conda to install openpyxl.",
     "output_type": "error",
     "traceback": [
      "\u001b[1;31m---------------------------------------------------------------------------\u001b[0m",
      "\u001b[1;31mModuleNotFoundError\u001b[0m                       Traceback (most recent call last)",
      "File \u001b[1;32m~\\AppData\\Local\\Programs\\Python\\Python312\\Lib\\site-packages\\pandas\\compat\\_optional.py:135\u001b[0m, in \u001b[0;36mimport_optional_dependency\u001b[1;34m(name, extra, errors, min_version)\u001b[0m\n\u001b[0;32m    134\u001b[0m \u001b[38;5;28;01mtry\u001b[39;00m:\n\u001b[1;32m--> 135\u001b[0m     module \u001b[38;5;241m=\u001b[39m \u001b[43mimportlib\u001b[49m\u001b[38;5;241;43m.\u001b[39;49m\u001b[43mimport_module\u001b[49m\u001b[43m(\u001b[49m\u001b[43mname\u001b[49m\u001b[43m)\u001b[49m\n\u001b[0;32m    136\u001b[0m \u001b[38;5;28;01mexcept\u001b[39;00m \u001b[38;5;167;01mImportError\u001b[39;00m:\n",
      "File \u001b[1;32m~\\AppData\\Local\\Programs\\Python\\Python312\\Lib\\importlib\\__init__.py:90\u001b[0m, in \u001b[0;36mimport_module\u001b[1;34m(name, package)\u001b[0m\n\u001b[0;32m     89\u001b[0m         level \u001b[38;5;241m+\u001b[39m\u001b[38;5;241m=\u001b[39m \u001b[38;5;241m1\u001b[39m\n\u001b[1;32m---> 90\u001b[0m \u001b[38;5;28;01mreturn\u001b[39;00m \u001b[43m_bootstrap\u001b[49m\u001b[38;5;241;43m.\u001b[39;49m\u001b[43m_gcd_import\u001b[49m\u001b[43m(\u001b[49m\u001b[43mname\u001b[49m\u001b[43m[\u001b[49m\u001b[43mlevel\u001b[49m\u001b[43m:\u001b[49m\u001b[43m]\u001b[49m\u001b[43m,\u001b[49m\u001b[43m \u001b[49m\u001b[43mpackage\u001b[49m\u001b[43m,\u001b[49m\u001b[43m \u001b[49m\u001b[43mlevel\u001b[49m\u001b[43m)\u001b[49m\n",
      "File \u001b[1;32m<frozen importlib._bootstrap>:1387\u001b[0m, in \u001b[0;36m_gcd_import\u001b[1;34m(name, package, level)\u001b[0m\n",
      "File \u001b[1;32m<frozen importlib._bootstrap>:1360\u001b[0m, in \u001b[0;36m_find_and_load\u001b[1;34m(name, import_)\u001b[0m\n",
      "File \u001b[1;32m<frozen importlib._bootstrap>:1324\u001b[0m, in \u001b[0;36m_find_and_load_unlocked\u001b[1;34m(name, import_)\u001b[0m\n",
      "\u001b[1;31mModuleNotFoundError\u001b[0m: No module named 'openpyxl'",
      "\nDuring handling of the above exception, another exception occurred:\n",
      "\u001b[1;31mImportError\u001b[0m                               Traceback (most recent call last)",
      "Cell \u001b[1;32mIn[1], line 8\u001b[0m\n\u001b[0;32m      6\u001b[0m \u001b[38;5;66;03m# Reading the excel file IRCTC Stock Price from the file path \u001b[39;00m\n\u001b[0;32m      7\u001b[0m file_path \u001b[38;5;241m=\u001b[39m \u001b[38;5;124m\"\u001b[39m\u001b[38;5;124mD:\u001b[39m\u001b[38;5;130;01m\\\\\u001b[39;00m\u001b[38;5;124mSEM4\u001b[39m\u001b[38;5;130;01m\\\\\u001b[39;00m\u001b[38;5;124mML\u001b[39m\u001b[38;5;130;01m\\\\\u001b[39;00m\u001b[38;5;124mIRCTC Stock Price.xlsx\u001b[39m\u001b[38;5;124m\"\u001b[39m\n\u001b[1;32m----> 8\u001b[0m stock_data \u001b[38;5;241m=\u001b[39m \u001b[43mpd\u001b[49m\u001b[38;5;241;43m.\u001b[39;49m\u001b[43mread_excel\u001b[49m\u001b[43m(\u001b[49m\u001b[43mfile_path\u001b[49m\u001b[43m)\u001b[49m\n\u001b[0;32m     10\u001b[0m \u001b[38;5;66;03m# Calculating mean and variance of the 'Price' column using numpy\u001b[39;00m\n\u001b[0;32m     11\u001b[0m price_mean \u001b[38;5;241m=\u001b[39m st\u001b[38;5;241m.\u001b[39mmean(stock_data[\u001b[38;5;124m'\u001b[39m\u001b[38;5;124mPrice\u001b[39m\u001b[38;5;124m'\u001b[39m])\n",
      "File \u001b[1;32m~\\AppData\\Local\\Programs\\Python\\Python312\\Lib\\site-packages\\pandas\\io\\excel\\_base.py:495\u001b[0m, in \u001b[0;36mread_excel\u001b[1;34m(io, sheet_name, header, names, index_col, usecols, dtype, engine, converters, true_values, false_values, skiprows, nrows, na_values, keep_default_na, na_filter, verbose, parse_dates, date_parser, date_format, thousands, decimal, comment, skipfooter, storage_options, dtype_backend, engine_kwargs)\u001b[0m\n\u001b[0;32m    493\u001b[0m \u001b[38;5;28;01mif\u001b[39;00m \u001b[38;5;129;01mnot\u001b[39;00m \u001b[38;5;28misinstance\u001b[39m(io, ExcelFile):\n\u001b[0;32m    494\u001b[0m     should_close \u001b[38;5;241m=\u001b[39m \u001b[38;5;28;01mTrue\u001b[39;00m\n\u001b[1;32m--> 495\u001b[0m     io \u001b[38;5;241m=\u001b[39m \u001b[43mExcelFile\u001b[49m\u001b[43m(\u001b[49m\n\u001b[0;32m    496\u001b[0m \u001b[43m        \u001b[49m\u001b[43mio\u001b[49m\u001b[43m,\u001b[49m\n\u001b[0;32m    497\u001b[0m \u001b[43m        \u001b[49m\u001b[43mstorage_options\u001b[49m\u001b[38;5;241;43m=\u001b[39;49m\u001b[43mstorage_options\u001b[49m\u001b[43m,\u001b[49m\n\u001b[0;32m    498\u001b[0m \u001b[43m        \u001b[49m\u001b[43mengine\u001b[49m\u001b[38;5;241;43m=\u001b[39;49m\u001b[43mengine\u001b[49m\u001b[43m,\u001b[49m\n\u001b[0;32m    499\u001b[0m \u001b[43m        \u001b[49m\u001b[43mengine_kwargs\u001b[49m\u001b[38;5;241;43m=\u001b[39;49m\u001b[43mengine_kwargs\u001b[49m\u001b[43m,\u001b[49m\n\u001b[0;32m    500\u001b[0m \u001b[43m    \u001b[49m\u001b[43m)\u001b[49m\n\u001b[0;32m    501\u001b[0m \u001b[38;5;28;01melif\u001b[39;00m engine \u001b[38;5;129;01mand\u001b[39;00m engine \u001b[38;5;241m!=\u001b[39m io\u001b[38;5;241m.\u001b[39mengine:\n\u001b[0;32m    502\u001b[0m     \u001b[38;5;28;01mraise\u001b[39;00m \u001b[38;5;167;01mValueError\u001b[39;00m(\n\u001b[0;32m    503\u001b[0m         \u001b[38;5;124m\"\u001b[39m\u001b[38;5;124mEngine should not be specified when passing \u001b[39m\u001b[38;5;124m\"\u001b[39m\n\u001b[0;32m    504\u001b[0m         \u001b[38;5;124m\"\u001b[39m\u001b[38;5;124man ExcelFile - ExcelFile already has the engine set\u001b[39m\u001b[38;5;124m\"\u001b[39m\n\u001b[0;32m    505\u001b[0m     )\n",
      "File \u001b[1;32m~\\AppData\\Local\\Programs\\Python\\Python312\\Lib\\site-packages\\pandas\\io\\excel\\_base.py:1567\u001b[0m, in \u001b[0;36mExcelFile.__init__\u001b[1;34m(self, path_or_buffer, engine, storage_options, engine_kwargs)\u001b[0m\n\u001b[0;32m   1564\u001b[0m \u001b[38;5;28mself\u001b[39m\u001b[38;5;241m.\u001b[39mengine \u001b[38;5;241m=\u001b[39m engine\n\u001b[0;32m   1565\u001b[0m \u001b[38;5;28mself\u001b[39m\u001b[38;5;241m.\u001b[39mstorage_options \u001b[38;5;241m=\u001b[39m storage_options\n\u001b[1;32m-> 1567\u001b[0m \u001b[38;5;28mself\u001b[39m\u001b[38;5;241m.\u001b[39m_reader \u001b[38;5;241m=\u001b[39m \u001b[38;5;28;43mself\u001b[39;49m\u001b[38;5;241;43m.\u001b[39;49m\u001b[43m_engines\u001b[49m\u001b[43m[\u001b[49m\u001b[43mengine\u001b[49m\u001b[43m]\u001b[49m\u001b[43m(\u001b[49m\n\u001b[0;32m   1568\u001b[0m \u001b[43m    \u001b[49m\u001b[38;5;28;43mself\u001b[39;49m\u001b[38;5;241;43m.\u001b[39;49m\u001b[43m_io\u001b[49m\u001b[43m,\u001b[49m\n\u001b[0;32m   1569\u001b[0m \u001b[43m    \u001b[49m\u001b[43mstorage_options\u001b[49m\u001b[38;5;241;43m=\u001b[39;49m\u001b[43mstorage_options\u001b[49m\u001b[43m,\u001b[49m\n\u001b[0;32m   1570\u001b[0m \u001b[43m    \u001b[49m\u001b[43mengine_kwargs\u001b[49m\u001b[38;5;241;43m=\u001b[39;49m\u001b[43mengine_kwargs\u001b[49m\u001b[43m,\u001b[49m\n\u001b[0;32m   1571\u001b[0m \u001b[43m\u001b[49m\u001b[43m)\u001b[49m\n",
      "File \u001b[1;32m~\\AppData\\Local\\Programs\\Python\\Python312\\Lib\\site-packages\\pandas\\io\\excel\\_openpyxl.py:552\u001b[0m, in \u001b[0;36mOpenpyxlReader.__init__\u001b[1;34m(self, filepath_or_buffer, storage_options, engine_kwargs)\u001b[0m\n\u001b[0;32m    534\u001b[0m \u001b[38;5;129m@doc\u001b[39m(storage_options\u001b[38;5;241m=\u001b[39m_shared_docs[\u001b[38;5;124m\"\u001b[39m\u001b[38;5;124mstorage_options\u001b[39m\u001b[38;5;124m\"\u001b[39m])\n\u001b[0;32m    535\u001b[0m \u001b[38;5;28;01mdef\u001b[39;00m \u001b[38;5;21m__init__\u001b[39m(\n\u001b[0;32m    536\u001b[0m     \u001b[38;5;28mself\u001b[39m,\n\u001b[1;32m   (...)\u001b[0m\n\u001b[0;32m    539\u001b[0m     engine_kwargs: \u001b[38;5;28mdict\u001b[39m \u001b[38;5;241m|\u001b[39m \u001b[38;5;28;01mNone\u001b[39;00m \u001b[38;5;241m=\u001b[39m \u001b[38;5;28;01mNone\u001b[39;00m,\n\u001b[0;32m    540\u001b[0m ) \u001b[38;5;241m-\u001b[39m\u001b[38;5;241m>\u001b[39m \u001b[38;5;28;01mNone\u001b[39;00m:\n\u001b[0;32m    541\u001b[0m \u001b[38;5;250m    \u001b[39m\u001b[38;5;124;03m\"\"\"\u001b[39;00m\n\u001b[0;32m    542\u001b[0m \u001b[38;5;124;03m    Reader using openpyxl engine.\u001b[39;00m\n\u001b[0;32m    543\u001b[0m \n\u001b[1;32m   (...)\u001b[0m\n\u001b[0;32m    550\u001b[0m \u001b[38;5;124;03m        Arbitrary keyword arguments passed to excel engine.\u001b[39;00m\n\u001b[0;32m    551\u001b[0m \u001b[38;5;124;03m    \"\"\"\u001b[39;00m\n\u001b[1;32m--> 552\u001b[0m     \u001b[43mimport_optional_dependency\u001b[49m\u001b[43m(\u001b[49m\u001b[38;5;124;43m\"\u001b[39;49m\u001b[38;5;124;43mopenpyxl\u001b[39;49m\u001b[38;5;124;43m\"\u001b[39;49m\u001b[43m)\u001b[49m\n\u001b[0;32m    553\u001b[0m     \u001b[38;5;28msuper\u001b[39m()\u001b[38;5;241m.\u001b[39m\u001b[38;5;21m__init__\u001b[39m(\n\u001b[0;32m    554\u001b[0m         filepath_or_buffer,\n\u001b[0;32m    555\u001b[0m         storage_options\u001b[38;5;241m=\u001b[39mstorage_options,\n\u001b[0;32m    556\u001b[0m         engine_kwargs\u001b[38;5;241m=\u001b[39mengine_kwargs,\n\u001b[0;32m    557\u001b[0m     )\n",
      "File \u001b[1;32m~\\AppData\\Local\\Programs\\Python\\Python312\\Lib\\site-packages\\pandas\\compat\\_optional.py:138\u001b[0m, in \u001b[0;36mimport_optional_dependency\u001b[1;34m(name, extra, errors, min_version)\u001b[0m\n\u001b[0;32m    136\u001b[0m \u001b[38;5;28;01mexcept\u001b[39;00m \u001b[38;5;167;01mImportError\u001b[39;00m:\n\u001b[0;32m    137\u001b[0m     \u001b[38;5;28;01mif\u001b[39;00m errors \u001b[38;5;241m==\u001b[39m \u001b[38;5;124m\"\u001b[39m\u001b[38;5;124mraise\u001b[39m\u001b[38;5;124m\"\u001b[39m:\n\u001b[1;32m--> 138\u001b[0m         \u001b[38;5;28;01mraise\u001b[39;00m \u001b[38;5;167;01mImportError\u001b[39;00m(msg)\n\u001b[0;32m    139\u001b[0m     \u001b[38;5;28;01mreturn\u001b[39;00m \u001b[38;5;28;01mNone\u001b[39;00m\n\u001b[0;32m    141\u001b[0m \u001b[38;5;66;03m# Handle submodules: if we have submodule, grab parent module from sys.modules\u001b[39;00m\n",
      "\u001b[1;31mImportError\u001b[0m: Missing optional dependency 'openpyxl'.  Use pip or conda to install openpyxl."
     ]
    }
   ],
   "source": [
    "import pandas as pd\n",
    "import matplotlib.pyplot as plt\n",
    "import seaborn as sns\n",
    "import statistics as st\n",
    "\n",
    "# Reading the excel file IRCTC Stock Price from the file path \n",
    "file_path = \"D:\\\\SEM4\\\\ML\\\\IRCTC Stock Price.xlsx\"\n",
    "stock_data = pd.read_excel(file_path)\n",
    "\n",
    "# Calculating mean and variance of the 'Price' column using numpy\n",
    "price_mean = st.mean(stock_data['Price'])\n",
    "price_variance = st.variance(stock_data['Price'])\n",
    "print(\"The Mean of the column Price data is:\", price_mean)\n",
    "print(\"The Variance of the column Price data is:\", price_variance)\n",
    "\n",
    "# Convert 'Date' column to datetime\n",
    "stock_data['Date'] = pd.to_datetime(stock_data['Date'])\n",
    "\n",
    "# Selecting the 'Price' column data for Wednesdays and finding the sample mean\n",
    "wednesday_prices = stock_data[stock_data['Day'] == 'Wed']['Price']\n",
    "wednesday_mean_price = st.mean(wednesday_prices)\n",
    "print(\"The Sample mean of Wednesday for the column prices is:\", wednesday_mean_price)\n",
    "\n",
    "# Selecting the 'Price' data for the month of April and calculating the sample mean\n",
    "april_prices = stock_data[stock_data['Month'] == 'Apr']['Price']\n",
    "april_mean_price = st.mean(april_prices)\n",
    "print(\"The Sample mean of April for the column prices is:\", april_mean_price)\n",
    "\n",
    "# Probability for experiencing a loss \n",
    "price_changes = stock_data['Chg%'].apply(lambda x: float(x.strip('%')) if isinstance(x, str) else x)\n",
    "loss_probability = len(price_changes[price_changes < 0]) / len(price_changes)\n",
    "print(\"The Probability of experiencing a loss in the stock is:\", loss_probability)\n",
    "\n",
    "# Probability of making a profit on Wednesdays\n",
    "profitable_wednesdays = len(wednesday_prices[wednesday_prices.diff() > 0]) / len(wednesday_prices)\n",
    "print(\"The Probability of making a profit on Wednesdays is:\", profitable_wednesdays)\n",
    "\n",
    "# Conditional probability of making profit, given that today is Wednesday\n",
    "conditional_profit_probability = len(wednesday_prices[wednesday_prices.diff() > 0]) / len(wednesday_prices)\n",
    "print(\"The Conditional probability of making a profit on Wednesday is:\", conditional_profit_probability)\n",
    "\n",
    "# Scatter plot of Chg% data against the day of the week\n",
    "plt.figure(figsize=(10, 6))\n",
    "sns.scatterplot(data=stock_data, x='Day', y='Chg%')\n",
    "plt.title('Scatter plot of Chg% data against the day of the week')\n",
    "plt.xlabel('Day of the week')\n",
    "plt.ylabel('Chg%')\n",
    "plt.show()"
   ]
  },
  {
   "cell_type": "code",
   "execution_count": null,
   "id": "dc495576-b9b6-44a3-b74b-8155dfca37b3",
   "metadata": {},
   "outputs": [],
   "source": []
  }
 ],
 "metadata": {
  "kernelspec": {
   "display_name": "Python 3 (ipykernel)",
   "language": "python",
   "name": "python3"
  },
  "language_info": {
   "codemirror_mode": {
    "name": "ipython",
    "version": 3
   },
   "file_extension": ".py",
   "mimetype": "text/x-python",
   "name": "python",
   "nbconvert_exporter": "python",
   "pygments_lexer": "ipython3",
   "version": "3.12.1"
  }
 },
 "nbformat": 4,
 "nbformat_minor": 5
}
